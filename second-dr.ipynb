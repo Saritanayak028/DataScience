{
 "cells": [
  {
   "cell_type": "code",
   "execution_count": 1,
   "id": "67a930a2",
   "metadata": {
    "_cell_guid": "b1076dfc-b9ad-4769-8c92-a6c4dae69d19",
    "_uuid": "8f2839f25d086af736a60e9eeb907d3b93b6e0e5",
    "execution": {
     "iopub.execute_input": "2023-12-05T17:39:10.547682Z",
     "iopub.status.busy": "2023-12-05T17:39:10.546959Z",
     "iopub.status.idle": "2023-12-05T17:39:10.998329Z",
     "shell.execute_reply": "2023-12-05T17:39:10.996812Z"
    },
    "papermill": {
     "duration": 0.463367,
     "end_time": "2023-12-05T17:39:11.001763",
     "exception": false,
     "start_time": "2023-12-05T17:39:10.538396",
     "status": "completed"
    },
    "tags": []
   },
   "outputs": [
    {
     "name": "stdout",
     "output_type": "stream",
     "text": [
      "/kaggle/input/digital-recognition/sample_submission.csv\n",
      "/kaggle/input/digital-recognition/train.csv\n",
      "/kaggle/input/digital-recognition/test.csv\n"
     ]
    }
   ],
   "source": [
    "# This Python 3 environment comes with many helpful analytics libraries installed\n",
    "# It is defined by the kaggle/python Docker image: https://github.com/kaggle/docker-python\n",
    "# For example, here's several helpful packages to load\n",
    "\n",
    "import numpy as np # linear algebra\n",
    "import pandas as pd # data processing, CSV file I/O (e.g. pd.read_csv)\n",
    "\n",
    "# Input data files are available in the read-only \"../input/\" directory\n",
    "# For example, running this (by clicking run or pressing Shift+Enter) will list all files under the input directory\n",
    "\n",
    "import os\n",
    "for dirname, _, filenames in os.walk('/kaggle/input'):\n",
    "    for filename in filenames:\n",
    "        print(os.path.join(dirname, filename))\n",
    "\n",
    "# You can write up to 20GB to the current directory (/kaggle/working/) that gets preserved as output when you create a version using \"Save & Run All\" \n",
    "# You can also write temporary files to /kaggle/temp/, but they won't be saved outside of the current session"
   ]
  },
  {
   "cell_type": "code",
   "execution_count": 2,
   "id": "1a5d971a",
   "metadata": {
    "execution": {
     "iopub.execute_input": "2023-12-05T17:39:11.017508Z",
     "iopub.status.busy": "2023-12-05T17:39:11.016938Z",
     "iopub.status.idle": "2023-12-05T17:39:26.100531Z",
     "shell.execute_reply": "2023-12-05T17:39:26.099138Z"
    },
    "papermill": {
     "duration": 15.093931,
     "end_time": "2023-12-05T17:39:26.103678",
     "exception": false,
     "start_time": "2023-12-05T17:39:11.009747",
     "status": "completed"
    },
    "tags": []
   },
   "outputs": [],
   "source": [
    "import pandas as pd\n",
    "import numpy as np\n",
    "import matplotlib.pyplot as plt\n",
    "import matplotlib.image as mpimg\n",
    "import seaborn as sns\n",
    "%matplotlib inline\n",
    "\n",
    "np.random.seed(2)\n",
    "\n",
    "from sklearn.model_selection import train_test_split\n",
    "from sklearn.metrics import confusion_matrix\n",
    "import itertools\n",
    "\n",
    "from keras.utils import to_categorical # convert to one-hot-encoding\n",
    "from keras.models import Sequential\n",
    "from keras.layers import Dense, Dropout, Flatten, Conv2D, MaxPool2D\n",
    "from keras.optimizers import RMSprop\n",
    "from keras.preprocessing.image import ImageDataGenerator\n",
    "from keras.callbacks import ReduceLROnPlateau\n",
    "\n",
    "\n",
    "sns.set(style='white', context='notebook', palette='deep')"
   ]
  },
  {
   "cell_type": "code",
   "execution_count": 3,
   "id": "b8acd042",
   "metadata": {
    "execution": {
     "iopub.execute_input": "2023-12-05T17:39:26.118974Z",
     "iopub.status.busy": "2023-12-05T17:39:26.117533Z",
     "iopub.status.idle": "2023-12-05T17:39:33.443813Z",
     "shell.execute_reply": "2023-12-05T17:39:33.442720Z"
    },
    "papermill": {
     "duration": 7.336841,
     "end_time": "2023-12-05T17:39:33.446734",
     "exception": false,
     "start_time": "2023-12-05T17:39:26.109893",
     "status": "completed"
    },
    "tags": []
   },
   "outputs": [],
   "source": [
    "train= pd.read_csv(\"/kaggle/input/digital-recognition/train.csv\")\n",
    "test = pd.read_csv(\"/kaggle/input/digital-recognition/test.csv\")\n",
    "sample = pd.read_csv(\"/kaggle/input/digital-recognition/sample_submission.csv\")"
   ]
  },
  {
   "cell_type": "markdown",
   "id": "e394aba3",
   "metadata": {
    "papermill": {
     "duration": 0.005568,
     "end_time": "2023-12-05T17:39:33.458324",
     "exception": false,
     "start_time": "2023-12-05T17:39:33.452756",
     "status": "completed"
    },
    "tags": []
   },
   "source": [
    "# **Grayscale Normalization**"
   ]
  },
  {
   "cell_type": "code",
   "execution_count": 4,
   "id": "6ba6d201",
   "metadata": {
    "execution": {
     "iopub.execute_input": "2023-12-05T17:39:33.471995Z",
     "iopub.status.busy": "2023-12-05T17:39:33.471541Z",
     "iopub.status.idle": "2023-12-05T17:39:33.674284Z",
     "shell.execute_reply": "2023-12-05T17:39:33.672717Z"
    },
    "papermill": {
     "duration": 0.213237,
     "end_time": "2023-12-05T17:39:33.677454",
     "exception": false,
     "start_time": "2023-12-05T17:39:33.464217",
     "status": "completed"
    },
    "tags": []
   },
   "outputs": [],
   "source": [
    "y_train = train[\"label\"]\n",
    "\n",
    "# Drop 'label' column\n",
    "x_train = train.drop(labels = [\"label\"],axis = 1) \n",
    "x_train = x_train / 255.0\n",
    "x_train = x_train.values.reshape(-1, 28, 28, 1)"
   ]
  },
  {
   "cell_type": "code",
   "execution_count": 5,
   "id": "2ffd2269",
   "metadata": {
    "execution": {
     "iopub.execute_input": "2023-12-05T17:39:33.692178Z",
     "iopub.status.busy": "2023-12-05T17:39:33.691190Z",
     "iopub.status.idle": "2023-12-05T17:39:35.077516Z",
     "shell.execute_reply": "2023-12-05T17:39:35.076139Z"
    },
    "papermill": {
     "duration": 1.396761,
     "end_time": "2023-12-05T17:39:35.080396",
     "exception": false,
     "start_time": "2023-12-05T17:39:33.683635",
     "status": "completed"
    },
    "tags": []
   },
   "outputs": [
    {
     "data": {
      "image/png": "[encoded data removed]",
      "text/plain": [
       "<Figure size 800x800 with 9 Axes>"
      ]
     },
     "metadata": {},
     "output_type": "display_data"
    }
   ],
   "source": [
    "import random\n",
    "\n",
    "fig, axs = plt.subplots(nrows=3, ncols=3, figsize=(8, 8))\n",
    "plt.subplots_adjust(hspace=0.3)\n",
    "for i in range(3):\n",
    "    for j in range(3):\n",
    "        idx = random.randint(0, train.shape[0])\n",
    "        image = np.reshape(train.loc[idx][1:], (28, 28, 1))\n",
    "        label = train.loc[idx][0]\n",
    "        axs[i, j].imshow(image, cmap='gray')\n",
    "        axs[i, j].set_title(f'Label: {label}')\n",
    "        axs[i, j].set_axis_off()\n",
    "plt.show()"
   ]
  },
  {
   "cell_type": "code",
   "execution_count": 6,
   "id": "30f109df",
   "metadata": {
    "execution": {
     "iopub.execute_input": "2023-12-05T17:39:35.095973Z",
     "iopub.status.busy": "2023-12-05T17:39:35.094951Z",
     "iopub.status.idle": "2023-12-05T17:39:35.220527Z",
     "shell.execute_reply": "2023-12-05T17:39:35.219205Z"
    },
    "papermill": {
     "duration": 0.136668,
     "end_time": "2023-12-05T17:39:35.223589",
     "exception": false,
     "start_time": "2023-12-05T17:39:35.086921",
     "status": "completed"
    },
    "tags": []
   },
   "outputs": [],
   "source": [
    "import tensorflow\n",
    "from tensorflow import keras\n",
    "from tensorflow.keras import Sequential\n",
    "from tensorflow.keras.layers import Dense,Flatten"
   ]
  },
  {
   "cell_type": "markdown",
   "id": "1febd290",
   "metadata": {
    "papermill": {
     "duration": 0.006006,
     "end_time": "2023-12-05T17:39:35.236017",
     "exception": false,
     "start_time": "2023-12-05T17:39:35.230011",
     "status": "completed"
    },
    "tags": []
   },
   "source": [
    "# Training Mode"
   ]
  },
  {
   "cell_type": "code",
   "execution_count": 7,
   "id": "4c500778",
   "metadata": {
    "execution": {
     "iopub.execute_input": "2023-12-05T17:39:35.251175Z",
     "iopub.status.busy": "2023-12-05T17:39:35.250253Z",
     "iopub.status.idle": "2023-12-05T17:39:35.430888Z",
     "shell.execute_reply": "2023-12-05T17:39:35.429614Z"
    },
    "papermill": {
     "duration": 0.191365,
     "end_time": "2023-12-05T17:39:35.433714",
     "exception": false,
     "start_time": "2023-12-05T17:39:35.242349",
     "status": "completed"
    },
    "tags": []
   },
   "outputs": [],
   "source": [
    "model = Sequential()\n",
    "\n",
    "model.add(Flatten(input_shape=(28,28)))\n",
    "model.add(Dense(128,activation='relu'))\n",
    "model.add(Dense(10,activation='softmax'))\n"
   ]
  },
  {
   "cell_type": "code",
   "execution_count": 8,
   "id": "ed281926",
   "metadata": {
    "execution": {
     "iopub.execute_input": "2023-12-05T17:39:35.448308Z",
     "iopub.status.busy": "2023-12-05T17:39:35.447921Z",
     "iopub.status.idle": "2023-12-05T17:39:35.471293Z",
     "shell.execute_reply": "2023-12-05T17:39:35.469902Z"
    },
    "papermill": {
     "duration": 0.036276,
     "end_time": "2023-12-05T17:39:35.476352",
     "exception": false,
     "start_time": "2023-12-05T17:39:35.440076",
     "status": "completed"
    },
    "tags": []
   },
   "outputs": [
    {
     "name": "stdout",
     "output_type": "stream",
     "text": [
      "Model: \"sequential\"\n",
      "_________________________________________________________________\n",
      " Layer (type)                Output Shape              Param #   \n",
      "=================================================================\n",
      " flatten (Flatten)           (None, 784)               0         \n",
      "                                                                 \n",
      " dense (Dense)               (None, 128)               100480    \n",
      "                                                                 \n",
      " dense_1 (Dense)             (None, 10)                1290      \n",
      "                                                                 \n",
      "=================================================================\n",
      "Total params: 101770 (397.54 KB)\n",
      "Trainable params: 101770 (397.54 KB)\n",
      "Non-trainable params: 0 (0.00 Byte)\n",
      "_________________________________________________________________\n"
     ]
    }
   ],
   "source": [
    "model.summary()"
   ]
  },
  {
   "cell_type": "code",
   "execution_count": 9,
   "id": "dc7d67ac",
   "metadata": {
    "execution": {
     "iopub.execute_input": "2023-12-05T17:39:35.493403Z",
     "iopub.status.busy": "2023-12-05T17:39:35.492976Z",
     "iopub.status.idle": "2023-12-05T17:39:35.512972Z",
     "shell.execute_reply": "2023-12-05T17:39:35.511756Z"
    },
    "papermill": {
     "duration": 0.031886,
     "end_time": "2023-12-05T17:39:35.515782",
     "exception": false,
     "start_time": "2023-12-05T17:39:35.483896",
     "status": "completed"
    },
    "tags": []
   },
   "outputs": [],
   "source": [
    "model.compile(loss='sparse_categorical_crossentropy',optimizer='Adam',metrics=['accuracy'])"
   ]
  },
  {
   "cell_type": "code",
   "execution_count": 10,
   "id": "faf145c7",
   "metadata": {
    "execution": {
     "iopub.execute_input": "2023-12-05T17:39:35.533425Z",
     "iopub.status.busy": "2023-12-05T17:39:35.532977Z",
     "iopub.status.idle": "2023-12-05T17:40:17.322068Z",
     "shell.execute_reply": "2023-12-05T17:40:17.320582Z"
    },
    "papermill": {
     "duration": 41.801548,
     "end_time": "2023-12-05T17:40:17.325359",
     "exception": false,
     "start_time": "2023-12-05T17:39:35.523811",
     "status": "completed"
    },
    "tags": []
   },
   "outputs": [
    {
     "name": "stdout",
     "output_type": "stream",
     "text": [
      "Epoch 1/10\n",
      "1050/1050 [==============================] - 5s 4ms/step - loss: 0.3259 - accuracy: 0.9059 - val_loss: 0.1737 - val_accuracy: 0.9507\n",
      "Epoch 2/10\n",
      "1050/1050 [==============================] - 4s 4ms/step - loss: 0.1473 - accuracy: 0.9568 - val_loss: 0.1352 - val_accuracy: 0.9557\n",
      "Epoch 3/10\n",
      "1050/1050 [==============================] - 4s 4ms/step - loss: 0.1027 - accuracy: 0.9698 - val_loss: 0.1075 - val_accuracy: 0.9671\n",
      "Epoch 4/10\n",
      "1050/1050 [==============================] - 4s 4ms/step - loss: 0.0768 - accuracy: 0.9770 - val_loss: 0.0959 - val_accuracy: 0.9701\n",
      "Epoch 5/10\n",
      "1050/1050 [==============================] - 4s 4ms/step - loss: 0.0576 - accuracy: 0.9833 - val_loss: 0.0965 - val_accuracy: 0.9694\n",
      "Epoch 6/10\n",
      "1050/1050 [==============================] - 4s 4ms/step - loss: 0.0465 - accuracy: 0.9860 - val_loss: 0.0944 - val_accuracy: 0.9701\n",
      "Epoch 7/10\n",
      "1050/1050 [==============================] - 4s 4ms/step - loss: 0.0340 - accuracy: 0.9905 - val_loss: 0.0929 - val_accuracy: 0.9737\n",
      "Epoch 8/10\n",
      "1050/1050 [==============================] - 4s 4ms/step - loss: 0.0274 - accuracy: 0.9923 - val_loss: 0.0923 - val_accuracy: 0.9745\n",
      "Epoch 9/10\n",
      "1050/1050 [==============================] - 4s 4ms/step - loss: 0.0217 - accuracy: 0.9935 - val_loss: 0.0949 - val_accuracy: 0.9743\n",
      "Epoch 10/10\n",
      "1050/1050 [==============================] - 4s 4ms/step - loss: 0.0179 - accuracy: 0.9952 - val_loss: 0.1086 - val_accuracy: 0.9724\n"
     ]
    }
   ],
   "source": [
    "history = model.fit(x_train,y_train,epochs=10,validation_split=0.2)"
   ]
  },
  {
   "cell_type": "markdown",
   "id": "b9100604",
   "metadata": {
    "papermill": {
     "duration": 0.072512,
     "end_time": "2023-12-05T17:40:17.472270",
     "exception": false,
     "start_time": "2023-12-05T17:40:17.399758",
     "status": "completed"
    },
    "tags": []
   },
   "source": [
    "# Loss"
   ]
  },
  {
   "cell_type": "code",
   "execution_count": 11,
   "id": "4b6214f0",
   "metadata": {
    "execution": {
     "iopub.execute_input": "2023-12-05T17:40:17.695760Z",
     "iopub.status.busy": "2023-12-05T17:40:17.695254Z",
     "iopub.status.idle": "2023-12-05T17:40:18.076930Z",
     "shell.execute_reply": "2023-12-05T17:40:18.075713Z"
    },
    "papermill": {
     "duration": 0.532139,
     "end_time": "2023-12-05T17:40:18.079563",
     "exception": false,
     "start_time": "2023-12-05T17:40:17.547424",
     "status": "completed"
    },
    "tags": []
   },
   "outputs": [
    {
     "data": {
      "text/plain": [
       "[<matplotlib.lines.Line2D at 0x7d50464378e0>]"
      ]
     },
     "execution_count": 11,
     "metadata": {},
     "output_type": "execute_result"
    },
    {
     "data": {
      "image/png": "[encoded data removed]",
      "text/plain": [
       "<Figure size 640x480 with 1 Axes>"
      ]
     },
     "metadata": {},
     "output_type": "display_data"
    }
   ],
   "source": [
    "plt.plot(history.history['loss'])\n",
    "plt.plot(history.history['val_loss'])\n",
    "\n"
   ]
  },
  {
   "cell_type": "markdown",
   "id": "d845a20a",
   "metadata": {
    "papermill": {
     "duration": 0.074248,
     "end_time": "2023-12-05T17:40:18.229837",
     "exception": false,
     "start_time": "2023-12-05T17:40:18.155589",
     "status": "completed"
    },
    "tags": []
   },
   "source": [
    "# Accuracy"
   ]
  },
  {
   "cell_type": "code",
   "execution_count": 12,
   "id": "093deebb",
   "metadata": {
    "execution": {
     "iopub.execute_input": "2023-12-05T17:40:18.382929Z",
     "iopub.status.busy": "2023-12-05T17:40:18.381817Z",
     "iopub.status.idle": "2023-12-05T17:40:18.745350Z",
     "shell.execute_reply": "2023-12-05T17:40:18.744010Z"
    },
    "papermill": {
     "duration": 0.441923,
     "end_time": "2023-12-05T17:40:18.748046",
     "exception": false,
     "start_time": "2023-12-05T17:40:18.306123",
     "status": "completed"
    },
    "tags": []
   },
   "outputs": [
    {
     "data": {
      "text/plain": [
       "[<matplotlib.lines.Line2D at 0x7d501e699240>]"
      ]
     },
     "execution_count": 12,
     "metadata": {},
     "output_type": "execute_result"
    },
    {
     "data": {
      "image/png": "[encoded data removed]",
      "text/plain": [
       "<Figure size 640x480 with 1 Axes>"
      ]
     },
     "metadata": {},
     "output_type": "display_data"
    }
   ],
   "source": [
    "plt.plot(history.history['accuracy'])\n",
    "plt.plot(history.history['val_accuracy'])\n"
   ]
  }
 ],
 "metadata": {
  "kaggle": {
   "accelerator": "none",
   "dataSources": [
    {
     "datasetId": 4107817,
     "sourceId": 7121736,
     "sourceType": "datasetVersion"
    }
   ],
   "dockerImageVersionId": 30587,
   "isGpuEnabled": false,
   "isInternetEnabled": false,
   "language": "python",
   "sourceType": "notebook"
  },
  "kernelspec": {
   "display_name": "Python 3",
   "language": "python",
   "name": "python3"
  },
  "language_info": {
   "codemirror_mode": {
    "name": "ipython",
    "version": 3
   },
   "file_extension": ".py",
   "mimetype": "text/x-python",
   "name": "python",
   "nbconvert_exporter": "python",
   "pygments_lexer": "ipython3",
   "version": "3.10.12"
  },
  "papermill": {
   "default_parameters": {},
   "duration": 74.535649,
   "end_time": "2023-12-05T17:40:21.584844",
   "environment_variables": {},
   "exception": null,
   "input_path": "__notebook__.ipynb",
   "output_path": "__notebook__.ipynb",
   "parameters": {},
   "start_time": "2023-12-05T17:39:07.049195",
   "version": "2.4.0"
  }
 },
 "nbformat": 4,
 "nbformat_minor": 5
}
